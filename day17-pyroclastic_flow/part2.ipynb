{
 "cells": [
  {
   "cell_type": "code",
   "execution_count": 5,
   "metadata": {},
   "outputs": [],
   "source": [
    "# Day 17 - Pyroclastic Flow, part 1\n",
    "# It's bloody tetris.\n",
    "\n",
    "# Input defines the movements left or right\n",
    "# Standard sequence of block addition and initial placement\n",
    "\n",
    "from operator import itemgetter\n",
    "\n",
    "\n",
    "\n",
    "\n",
    "# Board will be the map of everything no longer moving. Include the floor.\n",
    "# Each block will be (row, column) and floor will be row 0.\n",
    "\n",
    "\n",
    "\n",
    "class Wind:\n",
    "    '''\n",
    "        Use this to track the state of the wind and keep state between function calls\n",
    "    '''\n",
    "    def __init__(self) -> None:\n",
    "        self.wind = [x for x in open('input.txt').read().strip()]\n",
    "        self.wind_pos = 0\n",
    "        self.wind_len = len(self.wind)\n",
    "\n",
    "\n",
    "    def GetWind(self):\n",
    "        if self.wind[self.wind_pos] == '<':\n",
    "            ret = -1\n",
    "        else:\n",
    "            ret = 1\n",
    "\n",
    "        self.wind_pos = self.wind_pos + 1 if (self.wind_pos +1) < self.wind_len else 0\n",
    "        return ret\n",
    "\n",
    "\n",
    "\n",
    "def NewShape(pattern, max_height):\n",
    "    '''\n",
    "    Create a list with the positions of each block making up the new shape.\n",
    "    Use an int to track which shape gets added next, 0-4:\n",
    "        - + _| | #\n",
    "    '''\n",
    "    newshape = []\n",
    "\n",
    "    if pattern == 0:\n",
    "        # horizontal line\n",
    "        newshape = [(max_height+4, x) for x in range(2, 6)]\n",
    "\n",
    "    if pattern == 1:\n",
    "        # plus sign\n",
    "        newshape = [(max_height+4+1, x) for x in range(2, 5)]\n",
    "        newshape.extend([(max_height+4+x, 3) for x in range(0,3,2)])\n",
    "\n",
    "    if pattern == 2:\n",
    "        # reverse L\n",
    "        newshape = [(max_height+4, x) for x in range(2, 5)]\n",
    "        newshape.extend([(max_height+4+x, 4) for x in range(1, 3)])\n",
    "\n",
    "\n",
    "    elif pattern == 3:\n",
    "        # vertical line\n",
    "        newshape = [(max_height+4+x, 2) for x in range(4)]\n",
    "\n",
    "    elif pattern == 4:\n",
    "        # 2x2 square\n",
    "        newshape = [(max_height+4+r, c+2) for r in range(2) for c in range(2)]\n",
    "\n",
    "    return newshape\n",
    "\n",
    "\n",
    "\n",
    "def BlowShape(shape, direction, board):\n",
    "    '''\n",
    "    Direction will be -1 if < and 1 if >\n",
    "    '''\n",
    "\n",
    "    temp = shape.copy()\n",
    "    shape = [(r, c + direction) for r, c in shape]\n",
    "\n",
    "    if (min(shape, key=itemgetter(1))[1] < 0) or (max(shape, key=itemgetter(1))[1] > 6) or any(coord in shape for coord in board):\n",
    "        return temp\n",
    "    else:\n",
    "        return shape\n",
    "\n",
    "    \n",
    "\n",
    "\n",
    "def DownShape(shape):\n",
    "    return [(r-1, c) for r, c in shape]\n",
    "\n",
    "\n",
    "\n",
    "def PrintBoard(board):\n",
    "    top = max(board, key=itemgetter(0))[0] + 2\n",
    "\n",
    "    for r in range(top, -1, -1):\n",
    "        print('|', end = '')\n",
    "        for c in range(7):\n",
    "            if (r, c) in board:\n",
    "                print('#', end = '')\n",
    "            else:\n",
    "                print('.', end='')\n",
    "        print('|')\n",
    "\n",
    "    print()\n",
    "    print()\n",
    "        \n",
    "\n",
    "\n",
    "def Main(blocks):\n",
    "    b = []\n",
    "    h = [0]\n",
    "\n",
    "    board = set()\n",
    "    board.update([(0, x) for x in range(7)])\n",
    "    max_height = 0\n",
    "\n",
    "    wind = Wind()\n",
    "\n",
    "\n",
    "    for i in range(blocks):\n",
    "\n",
    "        shape = NewShape(i%5, max_height)\n",
    "        can_move = True\n",
    "\n",
    "        while can_move:\n",
    "\n",
    "            shape = BlowShape(shape, wind.GetWind(), board)\n",
    "            temp = shape.copy()\n",
    "            shape = DownShape(shape)\n",
    "\n",
    "            if any(coord in shape for coord in board):\n",
    "                can_move = False\n",
    "                board.update(temp)\n",
    "\n",
    "        max_height = max(board)[0]\n",
    "        b.append(i)\n",
    "        h.append(max_height)\n",
    "\n",
    "        # PrintBoard(board)\n",
    "    return b, h"
   ]
  },
  {
   "cell_type": "code",
   "execution_count": 6,
   "metadata": {},
   "outputs": [],
   "source": [
    "import pandas as pd"
   ]
  },
  {
   "cell_type": "code",
   "execution_count": 39,
   "metadata": {},
   "outputs": [],
   "source": [
    "# Create a dataframe with the heights for the first 5000 blocks\n",
    "\n",
    "b, h = Main(5000)\n",
    "h.pop()\n",
    "df = pd.DataFrame({'blocks': b, 'height': h})\n"
   ]
  },
  {
   "cell_type": "code",
   "execution_count": 9,
   "metadata": {},
   "outputs": [],
   "source": [
    "# Label the blocks 0 - 4 depending on shape\n",
    "# Add the height added with this block\n",
    "\n",
    "df['mod5_b'] = df['blocks'] % 5\n",
    "df['diff_h'] = df['height'].diff()"
   ]
  },
  {
   "cell_type": "code",
   "execution_count": 33,
   "metadata": {},
   "outputs": [],
   "source": [
    "# Export the data to csv\n",
    "\n",
    "df.to_csv('real_data.csv', columns=['mod5_b','height', 'diff_h'])"
   ]
  },
  {
   "cell_type": "code",
   "execution_count": 32,
   "metadata": {},
   "outputs": [],
   "source": [
    "# Create a column showing height added in the past 5 block cycle\n",
    "df['diff_h5'] = df[df['mod5_b'] == 0][['height']].diff()\n",
    "\n",
    "# Export this - this was good for finding the actual pattern\n",
    "df[df['mod5_b'] == 0][['blocks', 'height', 'diff_h', 'diff_h5']].to_csv('mod5.csv')"
   ]
  },
  {
   "attachments": {},
   "cell_type": "markdown",
   "metadata": {},
   "source": [
    "At this point we have the csv exports of data for trying to find the pattern.\n",
    "\n",
    "To use this with the example data then just change the filepath in the Main() function."
   ]
  },
  {
   "attachments": {},
   "cell_type": "markdown",
   "metadata": {},
   "source": [
    "*Values Found*\n",
    "\n",
    "Cycle starts at position 590\n",
    "\n",
    "Cycle lasts 1760 blocks\n",
    "\n",
    "Each cycle adds height 2737."
   ]
  },
  {
   "cell_type": "markdown",
   "metadata": {},
   "source": [
    "## Calculate Answer"
   ]
  },
  {
   "cell_type": "code",
   "execution_count": 42,
   "metadata": {},
   "outputs": [
    {
     "name": "stdout",
     "output_type": "stream",
     "text": [
      "1555113636385\n"
     ]
    }
   ],
   "source": [
    "start = int(df[:590]['diff_h'].sum())\n",
    "\n",
    "repeats = int(1000000000000-589)//1760\n",
    "\n",
    "remainder = (1000000000000-589) % 1760\n",
    "rem_sum = df[590: (590+remainder)]['diff_h'].sum()\n",
    "\n",
    "\n",
    "total = start + (repeats * 2737) + rem_sum\n",
    "print(int(total))"
   ]
  }
 ],
 "metadata": {
  "kernelspec": {
   "display_name": "Python 3",
   "language": "python",
   "name": "python3"
  },
  "language_info": {
   "codemirror_mode": {
    "name": "ipython",
    "version": 3
   },
   "file_extension": ".py",
   "mimetype": "text/x-python",
   "name": "python",
   "nbconvert_exporter": "python",
   "pygments_lexer": "ipython3",
   "version": "3.11.1"
  },
  "orig_nbformat": 4,
  "vscode": {
   "interpreter": {
    "hash": "844e3a4e7105a194ff9af59f9b31e2407a728c8640f779e61e780f97f4e5bd6e"
   }
  }
 },
 "nbformat": 4,
 "nbformat_minor": 2
}
